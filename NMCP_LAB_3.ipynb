{
  "nbformat": 4,
  "nbformat_minor": 0,
  "metadata": {
    "colab": {
      "provenance": [],
      "authorship_tag": "ABX9TyNv7EQUfnG2UJyE7l9xMMdw"
    },
    "kernelspec": {
      "name": "python3",
      "display_name": "Python 3"
    },
    "language_info": {
      "name": "python"
    }
  },
  "cells": [
    {
      "cell_type": "markdown",
      "source": [
        "**Name:** MD Abdul Hadi Sheikh\n",
        "\n",
        "**Roll:** 2200170\n",
        "\n",
        "**Experiment No:** 01\n",
        "\n",
        "**Experiment Name:** Arithmatic Operators\n",
        "\n",
        "\n",
        "---\n",
        "\n"
      ],
      "metadata": {
        "id": "Kz_w6jLPKzQx"
      }
    },
    {
      "cell_type": "markdown",
      "source": [
        "###Arithmatic Operator"
      ],
      "metadata": {
        "id": "qO1dLemJAsGc"
      }
    },
    {
      "cell_type": "code",
      "execution_count": 25,
      "metadata": {
        "id": "F3FS9ZBUGTCk",
        "colab": {
          "base_uri": "https://localhost:8080/"
        },
        "outputId": "0162be72-fe33-423f-f64a-5aa4d83fe111"
      },
      "outputs": [
        {
          "output_type": "stream",
          "name": "stdout",
          "text": [
            "12\n",
            "a\n",
            "4\n",
            "b\n",
            "<class 'int'>\n",
            "<class 'str'>\n",
            "<class 'int'>\n",
            "<class 'str'>\n"
          ]
        }
      ],
      "source": [
        "a = 12\n",
        "b = 4\n",
        "# = is a assignment operator to assign values to variable\n",
        "print(a)\n",
        "print('a')\n",
        "print(b)\n",
        "print('b')\n",
        "print(type(a))\n",
        "print(type('a'))\n",
        "print(type(b))\n",
        "print(type('b'))"
      ]
    },
    {
      "cell_type": "code",
      "source": [
        "#Collab shows last operation perfomed without print statement\n",
        "type(a)\n",
        "type('a')\n",
        "type(b)\n",
        "type('b')"
      ],
      "metadata": {
        "colab": {
          "base_uri": "https://localhost:8080/"
        },
        "id": "L65As1FbBL7P",
        "outputId": "f06e11f3-0e04-4116-ae6b-e441a9a4c227"
      },
      "execution_count": 26,
      "outputs": [
        {
          "output_type": "execute_result",
          "data": {
            "text/plain": [
              "str"
            ]
          },
          "metadata": {},
          "execution_count": 26
        }
      ]
    },
    {
      "cell_type": "markdown",
      "source": [
        "### Boolean is a data type answers in True and False\n",
        "### Also 1 and 0\n"
      ],
      "metadata": {
        "id": "NQfsOFfyB597"
      }
    },
    {
      "cell_type": "code",
      "source": [
        "# '==' is equal to, check if a value is equal to something\n",
        "type(a==b)"
      ],
      "metadata": {
        "colab": {
          "base_uri": "https://localhost:8080/"
        },
        "id": "XBRXnqRzB3_B",
        "outputId": "cb34bc3d-c0c7-440d-fb7b-b572063c71cb"
      },
      "execution_count": 27,
      "outputs": [
        {
          "output_type": "execute_result",
          "data": {
            "text/plain": [
              "bool"
            ]
          },
          "metadata": {},
          "execution_count": 27
        }
      ]
    },
    {
      "cell_type": "code",
      "source": [
        "print(a+b)  #addition\n",
        "print(a-b)  #subtraction\n",
        "print(a*b)  #multiplication\n",
        "print(a**b) #exponentiation\n",
        "print(a/b)  #division\n",
        "print(a//b) #Floor division -> integer division\n",
        "print(a%b)  #Modulo -> Gives output"
      ],
      "metadata": {
        "colab": {
          "base_uri": "https://localhost:8080/"
        },
        "id": "PH1vbAFACQ0w",
        "outputId": "97291165-98c8-43ef-dc84-09a65b5996cf"
      },
      "execution_count": 28,
      "outputs": [
        {
          "output_type": "stream",
          "name": "stdout",
          "text": [
            "16\n",
            "8\n",
            "48\n",
            "20736\n",
            "3.0\n",
            "3\n",
            "0\n"
          ]
        }
      ]
    },
    {
      "cell_type": "code",
      "source": [
        "print(a+b)\n",
        "print(a-b)\n",
        "print(a*b)\n",
        "print(type(a/b))\n",
        "print(a//b)\n",
        "print(a+b)\n",
        "print(a%b)\n",
        "type(a/b)"
      ],
      "metadata": {
        "colab": {
          "base_uri": "https://localhost:8080/"
        },
        "id": "wZBaHFh6FDbr",
        "outputId": "cd61b98f-7cc9-4fdb-c804-bbd73b1c4fe7"
      },
      "execution_count": 29,
      "outputs": [
        {
          "output_type": "stream",
          "name": "stdout",
          "text": [
            "16\n",
            "8\n",
            "48\n",
            "<class 'float'>\n",
            "3\n",
            "16\n",
            "0\n"
          ]
        },
        {
          "output_type": "execute_result",
          "data": {
            "text/plain": [
              "float"
            ]
          },
          "metadata": {},
          "execution_count": 29
        }
      ]
    },
    {
      "cell_type": "markdown",
      "source": [
        "###Comparison (Relational) Operators\n",
        "== (equal to)\n",
        "\n",
        "!= (not equal to)\n",
        "\n",
        "\\> (greater than)\n",
        "\n",
        "< (less than)\n",
        "\n",
        "\\>= (greater than or equal to)\n",
        "\n",
        "<= (less than or equal to)"
      ],
      "metadata": {
        "id": "u66H14EADqWN"
      }
    },
    {
      "cell_type": "code",
      "source": [
        "print(a==b)\n",
        "print(a!=b)\n",
        "print(a>b)\n",
        "print(a<b)\n",
        "print(a>=b)\n",
        "print(a<=b)"
      ],
      "metadata": {
        "colab": {
          "base_uri": "https://localhost:8080/"
        },
        "id": "hllSZ8iWD-2Y",
        "outputId": "92390a79-918f-4bd0-fb4a-90103d5c9c7a"
      },
      "execution_count": 30,
      "outputs": [
        {
          "output_type": "stream",
          "name": "stdout",
          "text": [
            "False\n",
            "True\n",
            "True\n",
            "False\n",
            "True\n",
            "False\n"
          ]
        }
      ]
    },
    {
      "cell_type": "markdown",
      "source": [
        "##Logical Operators:\n",
        "and (logical AND)\n",
        "\n",
        "or (logical OR)\n",
        "\n",
        "not (logical NOT)"
      ],
      "metadata": {
        "id": "dNoMqLa_EDML"
      }
    },
    {
      "cell_type": "code",
      "source": [
        "print(a > 10 and b < 5)    # True (both conditions are True)\n",
        "print(a > 15 and b < 5)    # False (first condition is False)\n",
        "print(a > 10 or b > 5)     # True (first condition is True)\n",
        "print(a > 15 or b < 5)     # True (second condition is True)\n",
        "print(not a > 10)          # False (a > 10 is True, so not True = False)\n",
        "print(not b > 5)           # True (b > 5 is False, so not False = True)"
      ],
      "metadata": {
        "colab": {
          "base_uri": "https://localhost:8080/"
        },
        "id": "AuO3MlikEL-Q",
        "outputId": "ff3b5898-7e63-4ac1-f4d0-8354da93e86f"
      },
      "execution_count": 31,
      "outputs": [
        {
          "output_type": "stream",
          "name": "stdout",
          "text": [
            "True\n",
            "False\n",
            "True\n",
            "True\n",
            "False\n",
            "True\n"
          ]
        }
      ]
    },
    {
      "cell_type": "markdown",
      "source": [
        "##Assignment Operators:\n",
        ">= (assigns value)\n",
        "\n",
        ">+=, -=, *=, /=, %=, **=, //= (compound assignment operators)"
      ],
      "metadata": {
        "id": "z1abp96VEMdC"
      }
    },
    {
      "cell_type": "code",
      "source": [
        "a = 11\n",
        "a += 5      # Same as: a = a + 5\n",
        "print(a)\n",
        "\n",
        "a -= 3      # Same as: a = a - 3\n",
        "print(a)\n",
        "\n",
        "a = 11\n",
        "a *= 2      # Same as: a = a * 2\n",
        "print(a)\n",
        "\n",
        "a /= 2      # Same as: a = a / 2\n",
        "print(a)\n",
        "\n",
        "a %= 3      # Same as: a = a % 3\n",
        "print(a)\n",
        "\n",
        "a **= 2     # Same as: a = a ** 2\n",
        "print(a)    # Output: 121 (11 squared)\n",
        "\n",
        "a //= 3     # Same as: a = a // 3\n",
        "print(a)"
      ],
      "metadata": {
        "colab": {
          "base_uri": "https://localhost:8080/"
        },
        "id": "BNqy2F42Gab9",
        "outputId": "9274bf3a-73a9-4b91-93e0-7bb6194b3ba6"
      },
      "execution_count": 32,
      "outputs": [
        {
          "output_type": "stream",
          "name": "stdout",
          "text": [
            "16\n",
            "13\n",
            "22\n",
            "11.0\n",
            "2.0\n",
            "4.0\n",
            "1.0\n"
          ]
        }
      ]
    },
    {
      "cell_type": "code",
      "source": [
        "length = 70\n",
        "width = 22\n",
        "height = 17\n",
        "\n",
        "print(\"Area of oblong:\", length*width*height)\n",
        "Diagonal= (height**2+width**2+height**2)**0.5\n",
        "print(\"Diagonal of oblong:\", Diagonal)"
      ],
      "metadata": {
        "colab": {
          "base_uri": "https://localhost:8080/"
        },
        "id": "MkF6kkhaHDFF",
        "outputId": "80dc8057-b713-48cb-a7da-4a33fe04804e"
      },
      "execution_count": 33,
      "outputs": [
        {
          "output_type": "stream",
          "name": "stdout",
          "text": [
            "Area of oblong: 26180\n",
            "Diagonal of oblong: 32.58834147360065\n"
          ]
        }
      ]
    },
    {
      "cell_type": "code",
      "source": [
        "#Cylinder\n",
        "hc = 10\n",
        "rc = 3\n",
        "\n",
        "volume = 3.1416*hc*(rc**2)\n",
        "print(\"Volume of Cylinder:\",volume)"
      ],
      "metadata": {
        "colab": {
          "base_uri": "https://localhost:8080/"
        },
        "id": "8kuNMWR4IMqI",
        "outputId": "29cee7dd-2782-4699-85d7-0f9ba09d2bad"
      },
      "execution_count": 34,
      "outputs": [
        {
          "output_type": "stream",
          "name": "stdout",
          "text": [
            "Volume of Cylinder: 282.744\n"
          ]
        }
      ]
    },
    {
      "cell_type": "code",
      "source": [
        "Al = hc*rc\n",
        "At = 3.1416*rc**2\n",
        "Ac = 2*3.1416*rc*hc\n",
        "print(\"Area of longitudinal cross section:\",Al,\"\\nArea of tansverse cross section:\",At,\"\\nArea of Curved surface:\",Ac)"
      ],
      "metadata": {
        "colab": {
          "base_uri": "https://localhost:8080/"
        },
        "id": "q8CGmcbAJBqs",
        "outputId": "e478bd04-de16-45b5-875a-55a079c8568f"
      },
      "execution_count": 35,
      "outputs": [
        {
          "output_type": "stream",
          "name": "stdout",
          "text": [
            "Area of longitudinal cross section: 30 \n",
            "Area of tansverse cross section: 28.2744 \n",
            "Area of Curved surface: 188.49599999999998\n"
          ]
        }
      ]
    }
  ]
}