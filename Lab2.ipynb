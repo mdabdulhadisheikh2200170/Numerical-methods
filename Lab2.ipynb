{
  "nbformat": 4,
  "nbformat_minor": 0,
  "metadata": {
    "colab": {
      "provenance": [],
      "authorship_tag": "ABX9TyOHr3bHQFTyMq4qde1kgX4d",
      "include_colab_link": true
    },
    "kernelspec": {
      "name": "python3",
      "display_name": "Python 3"
    },
    "language_info": {
      "name": "python"
    }
  },
  "cells": [
    {
      "cell_type": "markdown",
      "metadata": {
        "id": "view-in-github",
        "colab_type": "text"
      },
      "source": [
        "<a href=\"https://colab.research.google.com/github/mdabdulhadisheikh2200170/Numerical-methods/blob/main/Lab2.ipynb\" target=\"_parent\"><img src=\"https://colab.research.google.com/assets/colab-badge.svg\" alt=\"Open In Colab\"/></a>"
      ]
    },
    {
      "cell_type": "code",
      "execution_count": null,
      "metadata": {
        "colab": {
          "base_uri": "https://localhost:8080/"
        },
        "id": "-Cqmx_4gJaUn",
        "outputId": "d3b3a057-b96f-4ac8-9b94-0a261a350ff2"
      },
      "outputs": [
        {
          "output_type": "stream",
          "name": "stdout",
          "text": [
            "digits: 356788985321\n",
            "1\n",
            "2\n",
            "3\n",
            "5\n",
            "8\n",
            "9\n",
            "8\n",
            "8\n",
            "7\n",
            "6\n",
            "5\n",
            "3\n"
          ]
        }
      ],
      "source": [
        "x = int(input(\"digits: \"))\n",
        "\n",
        "while x//10!=0:\n",
        "    a= x//10\n",
        "    b=x%10\n",
        "    print(b)\n",
        "    x=a\n",
        "print(x)"
      ]
    },
    {
      "cell_type": "code",
      "source": [
        "x=17\n",
        "a= x//10\n",
        "b=x%10\n",
        "print(f\"10th place digit{a} and digit at unit place {b}\")"
      ],
      "metadata": {
        "colab": {
          "base_uri": "https://localhost:8080/"
        },
        "id": "QUi-rAKhL2hX",
        "outputId": "5e91b90f-cdc4-4593-89af-e80f013b5c31"
      },
      "execution_count": null,
      "outputs": [
        {
          "output_type": "stream",
          "name": "stdout",
          "text": [
            "10th place digit1 and digit at unit place 7\n"
          ]
        }
      ]
    },
    {
      "cell_type": "code",
      "source": [
        "x=170\n",
        "a= x%10\n",
        "x//=10\n",
        "b=x%10\n",
        "c=x//10\n",
        "print(f\"100th place digit {c} ,digit at 10th place {b} and unit place {a}\")"
      ],
      "metadata": {
        "colab": {
          "base_uri": "https://localhost:8080/"
        },
        "id": "to0jtMy-QtU-",
        "outputId": "b8d18f61-1139-48c7-fd05-4c76879724d8"
      },
      "execution_count": null,
      "outputs": [
        {
          "output_type": "stream",
          "name": "stdout",
          "text": [
            "100th place digit 1 ,digit at 10th place 7 and unit place 0\n"
          ]
        }
      ]
    },
    {
      "cell_type": "code",
      "source": [
        "x=1779\n",
        "a= x%10\n",
        "x//=10\n",
        "b=x%10\n",
        "x//=10\n",
        "c=x%10\n",
        "d= x//10\n",
        "print(f\"number print {a},{b},c,d\")"
      ],
      "metadata": {
        "colab": {
          "base_uri": "https://localhost:8080/"
        },
        "id": "NCWrRMCoS2-j",
        "outputId": "bcccac8c-fffc-4550-8837-b0efc642fb08"
      },
      "execution_count": null,
      "outputs": [
        {
          "output_type": "stream",
          "name": "stdout",
          "text": [
            "number print 9,7,c,d\n"
          ]
        }
      ]
    },
    {
      "cell_type": "code",
      "source": [
        "m=170\n",
        "g=9.81\n",
        "h=5\n",
        "x=4\n",
        "H=h+x\n",
        "v= (2*g*x)**0.5\n",
        "\n",
        "Potential_energy= m*g*h\n",
        "Kinetic_energy= 0.5*m*(v**2)\n",
        "print(Potential_energy+ Kinetic_energy)\n",
        "print(\"{:.2f}\".format(m*g*9))"
      ],
      "metadata": {
        "colab": {
          "base_uri": "https://localhost:8080/"
        },
        "id": "ahmgXcApVxYP",
        "outputId": "e2be8612-926b-4001-ef39-a9cc533a6066"
      },
      "execution_count": null,
      "outputs": [
        {
          "output_type": "stream",
          "name": "stdout",
          "text": [
            "15009.3\n",
            "15009.30\n"
          ]
        }
      ]
    },
    {
      "cell_type": "code",
      "source": [
        "#critical slope\n",
        "max_slope = 2\n",
        "min_slope=6\n",
        "slope=70/10 # last two digit of roll number/10\n",
        "print(f\"Is slope critical slope: {slope >= min_slope and slope <= max_slope}\")"
      ],
      "metadata": {
        "colab": {
          "base_uri": "https://localhost:8080/"
        },
        "id": "-LcUEXruZ2rL",
        "outputId": "c0b08f4f-2286-47b0-d784-cbd69fa07129"
      },
      "execution_count": null,
      "outputs": [
        {
          "output_type": "stream",
          "name": "stdout",
          "text": [
            "Is slope critical slope: False\n"
          ]
        }
      ]
    },
    {
      "cell_type": "code",
      "source": [
        "#limit of load bearing\n",
        "ll= 100+70\n",
        "dl= 10+70\n",
        "wl= 20\n",
        "al=300\n",
        "tl= 1.4*dl+ 1.6*ll+ wl*0.3\n",
        "print(f\"Exceeds Allowable load: {tl ,tl>=al}\")"
      ],
      "metadata": {
        "colab": {
          "base_uri": "https://localhost:8080/"
        },
        "id": "0b_HOPT0ba5T",
        "outputId": "9f750b08-3335-4dfd-e4a7-2cfba1f02ccf"
      },
      "execution_count": null,
      "outputs": [
        {
          "output_type": "stream",
          "name": "stdout",
          "text": [
            "Exceeds Allowable load: (390.0, True)\n"
          ]
        }
      ]
    }
  ]
}