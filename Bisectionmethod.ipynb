{
  "nbformat": 4,
  "nbformat_minor": 0,
  "metadata": {
    "colab": {
      "provenance": [],
      "authorship_tag": "ABX9TyPVozVDQibBNrdiWfDAIkMm",
      "include_colab_link": true
    },
    "kernelspec": {
      "name": "python3",
      "display_name": "Python 3"
    },
    "language_info": {
      "name": "python"
    }
  },
  "cells": [
    {
      "cell_type": "markdown",
      "metadata": {
        "id": "view-in-github",
        "colab_type": "text"
      },
      "source": [
        "<a href=\"https://colab.research.google.com/github/mdabdulhadisheikh2200170/Numerical-methods/blob/main/Bisectionmethod.ipynb\" target=\"_parent\"><img src=\"https://colab.research.google.com/assets/colab-badge.svg\" alt=\"Open In Colab\"/></a>"
      ]
    },
    {
      "cell_type": "code",
      "execution_count": 2,
      "metadata": {
        "colab": {
          "base_uri": "https://localhost:8080/"
        },
        "id": "QE9epRwZEtdj",
        "outputId": "dae8a430-28ec-4aec-be67-d1593c793f8b"
      },
      "outputs": [
        {
          "output_type": "stream",
          "name": "stdout",
          "text": [
            "Enter 2 numbers (seperated by space): 5 9\n",
            "Upper limit a=5 and lower limit b=-9\n",
            "x=-2.0867843627929688 is one of the root of funtion f(x)\n"
          ]
        }
      ],
      "source": [
        "#Def function\n",
        "\n",
        "def f(x):\n",
        "  return (x**3)-x+7 #change this function to given problem\n",
        "\n",
        "#choose guess numbers a and b\n",
        "\n",
        "a, b =map(int, input(\"Enter 2 numbers (seperated by space): \").split())\n",
        "\n",
        "\n",
        "#making sure numbers are opposite\n",
        "if a*b>0:\n",
        "  b=-b\n",
        "\n",
        "print(f\"Upper limit a={a} and lower limit b={b}\")\n",
        "\n",
        "#Bisection\n",
        "def middle(a,b):\n",
        "  return (a+b)/2\n",
        "\n",
        "#condition for bisection\n",
        "x=0\n",
        "\n",
        "while abs(a-b) > 0.0001: #for precision you can also use f(a)*f(b)!=0\n",
        "  m = middle(a,b)\n",
        "  if f(a)*f(m)<0:\n",
        "    b= m\n",
        "  else:\n",
        "    a=m\n",
        "\n",
        "  x=m\n",
        "\n",
        "print(f\"x={x} is one of the root of funtion f(x)\")"
      ]
    }
  ]
}